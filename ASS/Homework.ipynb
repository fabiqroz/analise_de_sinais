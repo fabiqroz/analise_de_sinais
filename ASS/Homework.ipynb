{
 "cells": [
  {
   "cell_type": "markdown",
   "id": "2957671c-37bf-48a1-b825-75fc20fe1871",
   "metadata": {},
   "source": [
    "Considerando os conceitos de energia e potência de um sinal, determine as medidas adequadas dos sinais abaixo:"
   ]
  },
  {
   "cell_type": "markdown",
   "id": "238123a9-2c5f-4ec6-8b8a-fb53bcb2644a",
   "metadata": {},
   "source": []
  },
  {
   "cell_type": "markdown",
   "id": "888db78d-8278-46e1-9986-93d8ecd9634b",
   "metadata": {},
   "source": [
    "Digite aqui suas respostas:\n",
    "\n",
    "(a) %%%%%\n",
    "(b) %%%%% \n",
    "\n",
    "Justifique aqui suas respostas:\n",
    "\n",
    "%%%%%\n"
   ]
  },
  {
   "cell_type": "code",
   "execution_count": null,
   "id": "adaa21f9-73df-4146-8d8d-4133ab909cfe",
   "metadata": {},
   "outputs": [],
   "source": []
  }
 ],
 "metadata": {
  "kernelspec": {
   "display_name": "Python 3 (ipykernel)",
   "language": "python",
   "name": "python3"
  },
  "language_info": {
   "codemirror_mode": {
    "name": "ipython",
    "version": 3
   },
   "file_extension": ".py",
   "mimetype": "text/x-python",
   "name": "python",
   "nbconvert_exporter": "python",
   "pygments_lexer": "ipython3",
   "version": "3.9.13"
  }
 },
 "nbformat": 4,
 "nbformat_minor": 5
}
